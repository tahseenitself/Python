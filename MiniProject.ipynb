{
  "nbformat": 4,
  "nbformat_minor": 0,
  "metadata": {
    "colab": {
      "provenance": []
    },
    "kernelspec": {
      "name": "python3",
      "display_name": "Python 3"
    },
    "language_info": {
      "name": "python"
    }
  },
  "cells": [
    {
      "cell_type": "code",
      "source": [
        "try:\n",
        "  def permitted(): # to extract data from the reference sheet\n",
        "    a=1\n",
        "    dup=dict()\n",
        "    with open(f\"/content/sample_data/{r}\") as e:\n",
        "      E=e.readlines()\n",
        "      x=1\n",
        "      for j in range(4):\n",
        "        for i in range(1,len(E)):\n",
        "          w= E[i].split(\",\")[0][:2]\n",
        "          W= E[i].split(\",\")[x].split(\"±\")\n",
        "          if(i<5):\n",
        "            dup.setdefault(w+\"up\",float(W[0])+float(W[1]))\n",
        "            dup.setdefault(w+\"lo\",float(W[0])-float(W[1]))\n",
        "          else:\n",
        "            dup.setdefault(w,int(W[0]))\n",
        "        if(dup[\"Ye\"]==Y) and (dup[\"Mo\"]==M) and (dup[\"Da\"]==D) and Lt>=dup[\"Lalo\"] and Lt<=dup[\"Laup\"] and Lg>=dup[\"Lolo\"] and Lg<=dup[\"Loup\"] and MSL>=dup[\"Allo\"] and MSL <=dup[\"Alup\"] and H>=dup[\"Helo\"] and H<=dup[\"Heup\"]:\n",
        "          return \"Route:- \"+ (E[0].split(\",\")[x])\n",
        "        dup.clear()\n",
        "        x+=1\n",
        "        a+=1\n",
        "      return \"No available route\"\n",
        "  def input1():\n",
        "      global Y,M,D,Lt,Lg,MSL,H,r\n",
        "      r=input(\"Enter the reference file: \")\n",
        "      n=input(\"Enter the text file: \")\n",
        "      with open (f\"/content/sample_data/{n}\") as I:\n",
        "        j=I.readlines() #list of all the lines\n",
        "        for i in range(9,12):#Extracting only the relevant lines\n",
        "          J=j[i].strip().split(\":\")[1:]# Removing the garbage\n",
        "          if(i==9): #Date\n",
        "            Y=int(J[0][:5]) #Year\n",
        "            M=int(J[1][1:3])\n",
        "            D=int(J[2][1:3])\n",
        "          elif(i==10):#Latitutde and Longitude\n",
        "            Lt=float(J[0][:10])\n",
        "            Lg=float(J[1])\n",
        "          else:#MSL and Heading\n",
        "            MSL=float(J[0][:14])\n",
        "            H=float(J[1])\n",
        "      return\n",
        "  input1()\n",
        "  print(permitted())\n",
        "except Exception as e:\n",
        "  print(e)"
      ],
      "metadata": {
        "colab": {
          "base_uri": "https://localhost:8080/"
        },
        "id": "tZgWlFASFGKw",
        "outputId": "9415bd1f-ad51-4899-bc58-30df245169fd"
      },
      "execution_count": null,
      "outputs": [
        {
          "output_type": "stream",
          "name": "stdout",
          "text": [
            "Enter the reference file: Ref.csv\n",
            "Enter the text file: Test2.txt\n",
            "Route:- downlink_1b\n"
          ]
        }
      ]
    }
  ]
}