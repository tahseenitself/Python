{
  "nbformat": 4,
  "nbformat_minor": 0,
  "metadata": {
    "colab": {
      "provenance": []
    },
    "kernelspec": {
      "name": "python3",
      "display_name": "Python 3"
    },
    "language_info": {
      "name": "python"
    }
  },
  "cells": [
    {
      "cell_type": "code",
      "execution_count": null,
      "metadata": {
        "id": "gPDkfIF4ngom"
      },
      "outputs": [],
      "source": [
        "##  Create a class Circle with a constructor that takes the radius.\n",
        "##  Add a method calculate_area that calculates the area of the circle and a method calculate_circumference that calculates\n",
        "#   the circumference.\n",
        "##  Create a circle instance, calculate its area and circumference, and print the results\n"
      ]
    },
    {
      "cell_type": "code",
      "source": [
        "class Circle:\n",
        "  def __init__(self,r):\n",
        "    self.r=r\n",
        "\n",
        "  def calculate_area(self):\n",
        "    return (22/7)*(self.r**2)\n",
        "\n",
        "  def calculate_circumference(self):\n",
        "    return 2*(22/7)*self.r\n",
        "\n",
        "  def display(self):\n",
        "    print(\"Area of the Circle is:\",self.calculate_area())\n",
        "    print(\"Circumference of the Circle is:\",self.calculate_circumference())\n"
      ],
      "metadata": {
        "id": "vSLISd0EpfCF"
      },
      "execution_count": null,
      "outputs": []
    },
    {
      "cell_type": "code",
      "source": [
        "c=Circle(12)"
      ],
      "metadata": {
        "id": "dYVZ1ZdjqmAS"
      },
      "execution_count": null,
      "outputs": []
    },
    {
      "cell_type": "code",
      "source": [
        "c.display()"
      ],
      "metadata": {
        "colab": {
          "base_uri": "https://localhost:8080/"
        },
        "id": "IjV7-N7QqxJn",
        "outputId": "6d67b15b-2ff7-45a1-f47b-7589e07e71bb"
      },
      "execution_count": null,
      "outputs": [
        {
          "output_type": "stream",
          "name": "stdout",
          "text": [
            "Area of the Circle is: 452.57142857142856\n",
            "Circumference of the Circle is: 75.42857142857143\n"
          ]
        }
      ]
    },
    {
      "cell_type": "code",
      "source": [
        "# Create a class TemperatureConverter with methods celsius_to_fahrenheit and fahrenheit_to_celsius that\n",
        "# convert temperatures between Celsius and Fahrenheit.\n",
        "# Create an instance of the class, convert 25°C to Fahrenheit and 77°F to Celsius, and print the results"
      ],
      "metadata": {
        "id": "egzaxhcWq-RK"
      },
      "execution_count": null,
      "outputs": []
    },
    {
      "cell_type": "code",
      "source": [
        "class TemperatureConverter:\n",
        "  def celsius_to_fahrenheit(self,c):\n",
        "    print(f\"After conversion into Farenheit, temp= {(((c*9)/5)+32)}\")\n",
        "\n",
        "  def fahrenheit_to_celsius(self,f):\n",
        "    print(f\"After conversion into Celsius, temp= {(((f-32)*5)/9)}\")\n"
      ],
      "metadata": {
        "id": "30-YPTwVrAWI"
      },
      "execution_count": null,
      "outputs": []
    },
    {
      "cell_type": "code",
      "source": [
        "t=TemperatureConverter()\n",
        "t.celsius_to_fahrenheit(25)\n",
        "t.fahrenheit_to_celsius(77)"
      ],
      "metadata": {
        "colab": {
          "base_uri": "https://localhost:8080/"
        },
        "id": "VjPkOGNRsoTL",
        "outputId": "e6813b75-9c57-4290-ecea-08fc820cb5b8"
      },
      "execution_count": null,
      "outputs": [
        {
          "output_type": "stream",
          "name": "stdout",
          "text": [
            "After conversion into Farenheit, temp= 77.0\n",
            "After conversion into Celsius, temp= 25.0\n"
          ]
        }
      ]
    },
    {
      "cell_type": "code",
      "source": [
        "##  Create a class Bank with a constructor that initializes an empty list accounts.\n",
        "##  Add methods create_account that creates a bank account, get_account_balance that returns the account\n",
        "# balance, and transfer that transfers funds between accounts.\n",
        "##  Create a bank instance, create two accounts, transfer $200 from one account to another, and print the account balances."
      ],
      "metadata": {
        "id": "bgheMqJbs_6U"
      },
      "execution_count": null,
      "outputs": []
    },
    {
      "cell_type": "code",
      "source": [
        "class Bank:\n",
        "  def __init__(self,size):\n",
        "    self.size=size\n",
        "    self.a=[[] for i in range(self.size)]\n",
        "  def create_account(self,name,dob):\n",
        "    self.name=name\n",
        "    self.amt=5000\n",
        "    self.dob=dob\n",
        "    id=self.hashing(name)\n",
        "    self.a[id]={id:[self.name,self.amt,self.dob]}\n",
        "    return self.a\n",
        "  def hashing(self,name):\n",
        "    hash=0\n",
        "    for i in name:\n",
        "      hash+=ord(i)\n",
        "    return hash%self.size\n",
        "\n",
        "  def get_account_balance(self,name):\n",
        "    # print(self.a)\n",
        "    id=self.hashing(name)\n",
        "    for i in range(len(self.a)):\n",
        "      # print(i)\n",
        "      if(type(self.a[i])==dict) and (id in self.a[i].keys()) and (self.a[i][id][0]== name):\n",
        "        # print(self.a[i][id])\n",
        "        return (f\"Balance of {name}=\",self.a[i][id][1])\n",
        "\n",
        "\n",
        "  def transfer(self,fro,to,amt):\n",
        "    id1=self.hashing(fro)\n",
        "    id2=self.hashing(to)\n",
        "    for i in range(len(self.a)):\n",
        "      if(type(self.a[i])==dict)and (id1 in self.a[i].keys()) and (fro in self.a[i][id1]) :\n",
        "        self.a[i][id1][1]-=amt\n",
        "      if(type(self.a[i])==dict)and (id2 in self.a[i].keys()) and (to in self.a[i][id2]) :\n",
        "        self.a[i][id2][1]+=amt\n",
        "\n",
        "\n",
        "\n",
        "\n",
        "\n",
        "\n",
        "\n",
        "\n",
        "\n",
        "\n",
        "\n"
      ],
      "metadata": {
        "id": "cD_Q6jjYtHRG"
      },
      "execution_count": 1,
      "outputs": []
    },
    {
      "cell_type": "code",
      "source": [
        "b=Bank(10)\n"
      ],
      "metadata": {
        "id": "lYGqHT25zwkB"
      },
      "execution_count": 2,
      "outputs": []
    },
    {
      "cell_type": "code",
      "source": [
        "b.create_account(\"Tahseen\",\"30/10/1999\")\n",
        "b.create_account(\"Abdullah\",\"25/12/2001\")"
      ],
      "metadata": {
        "colab": {
          "base_uri": "https://localhost:8080/"
        },
        "id": "HKuTx3q80FmE",
        "outputId": "cb03113b-1ab1-4270-9f3a-fd834e4f94c6"
      },
      "execution_count": 3,
      "outputs": [
        {
          "output_type": "execute_result",
          "data": {
            "text/plain": [
              "[[],\n",
              " [],\n",
              " {2: ['Tahseen', 5000, '30/10/1999']},\n",
              " [],\n",
              " [],\n",
              " [],\n",
              " [],\n",
              " {7: ['Abdullah', 5000, '25/12/2001']},\n",
              " [],\n",
              " []]"
            ]
          },
          "metadata": {},
          "execution_count": 3
        }
      ]
    },
    {
      "cell_type": "code",
      "source": [
        "b.transfer(\"Abdullah\",\"Tahseen\",200)"
      ],
      "metadata": {
        "id": "dUlU5El22y-d"
      },
      "execution_count": 4,
      "outputs": []
    },
    {
      "cell_type": "code",
      "source": [
        "print(b.get_account_balance(\"Abdullah\"))\n",
        "b.get_account_balance(\"Tahseen\")"
      ],
      "metadata": {
        "colab": {
          "base_uri": "https://localhost:8080/"
        },
        "id": "8VYY7Wuc1FkE",
        "outputId": "a7696094-a45f-4161-a5ae-f26288dd31fe"
      },
      "execution_count": 5,
      "outputs": [
        {
          "output_type": "stream",
          "name": "stdout",
          "text": [
            "('Balance of Abdullah=', 4800)\n"
          ]
        },
        {
          "output_type": "execute_result",
          "data": {
            "text/plain": [
              "('Balance of Tahseen=', 5200)"
            ]
          },
          "metadata": {},
          "execution_count": 5
        }
      ]
    }
  ]
}