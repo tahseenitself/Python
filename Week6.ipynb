{
  "nbformat": 4,
  "nbformat_minor": 0,
  "metadata": {
    "colab": {
      "provenance": []
    },
    "kernelspec": {
      "name": "python3",
      "display_name": "Python 3"
    },
    "language_info": {
      "name": "python"
    }
  },
  "cells": [
    {
      "cell_type": "code",
      "execution_count": null,
      "metadata": {
        "id": "m0m4Oyt11MFk"
      },
      "outputs": [],
      "source": [
        "# if a number is multiple of 3  but not 5, print \"fizz\"\n",
        "# if a number is multiple of 5  but not 3, print \"buzz\"\n",
        "# if a number is multiple of both print \"fizz buzz\"\n",
        "# If a number is not a multiple of both then \"not a fizz buzz\"?"
      ]
    },
    {
      "cell_type": "code",
      "source": [
        "# Multiple If-elif-else statements for all the cases\n",
        "#if statement to check if its a number\n",
        "# 4 different nested conditions for the four conditions\n",
        "# else statement for the invalid input\n",
        "x=input(\"Enter a number\")\n",
        "\n",
        "if(x.isnumeric()):\n",
        "  x=int(x)\n",
        "  if (x%3==0 and x%5!=0):\n",
        "    print(\"fizz\")\n",
        "  elif (x%3!=0 and x%5==0):\n",
        "    print(\"buzz\")\n",
        "  elif (x%3==0 and x%5==0):\n",
        "    print(\"fizz buzz\")\n",
        "  else:\n",
        "    print(\"not a fizz buzz\")\n",
        "else:\n",
        "  print(\"invalid input\")\n",
        "\n"
      ],
      "metadata": {
        "colab": {
          "base_uri": "https://localhost:8080/"
        },
        "id": "gi0QLTb31XY4",
        "outputId": "497301b8-5bc2-4d48-dc0f-84c32e6e6744"
      },
      "execution_count": null,
      "outputs": [
        {
          "output_type": "stream",
          "name": "stdout",
          "text": [
            "Enter a number25\n",
            "buzz\n"
          ]
        }
      ]
    },
    {
      "cell_type": "code",
      "source": [
        "# WAP to find the square root of the given value?"
      ],
      "metadata": {
        "id": "H2pP73l85YhK"
      },
      "execution_count": null,
      "outputs": []
    },
    {
      "cell_type": "code",
      "source": [
        "#using sqrt function\n",
        "\n",
        "\n",
        "\n",
        "# import math\n",
        "# x=int(input(\"Enter a number\"))\n",
        "# print(math.sqrt(x))\n",
        "\n",
        "\n",
        "\n",
        "#exponent of 0.5\n",
        "\n",
        "\n",
        "x=int(input(\"enter a number\"))\n",
        "print(x**0.5)\n"
      ],
      "metadata": {
        "colab": {
          "base_uri": "https://localhost:8080/"
        },
        "id": "BsuXFGVs5b6G",
        "outputId": "1f6ba79f-a5e1-4a0c-effd-e020540145d3"
      },
      "execution_count": null,
      "outputs": [
        {
          "output_type": "stream",
          "name": "stdout",
          "text": [
            "enter a number4\n",
            "2.0\n"
          ]
        }
      ]
    },
    {
      "cell_type": "code",
      "source": [
        "# WAP to find the Roots  of the Quadratic equation?"
      ],
      "metadata": {
        "id": "-YRhFOv18B_F"
      },
      "execution_count": null,
      "outputs": []
    },
    {
      "cell_type": "code",
      "source": [
        "# input number\n",
        "# use the formula to find the roots\n",
        "\n",
        "a=int(input(\"enter the value of a in a*x**2+b*x+c=0 \"))\n",
        "b=int(input(\"enter the value of b in a*x**2+b*x+c=0 \"))\n",
        "c=int(input(\"enter the value of c in a*x**2+b*x+c=0 \"))\n",
        "x1= (-b + (((b*b) - (4*a*c))**0.5))/(2*a)\n",
        "x2= (-b - (((b*b) - (4*a*c))**0.5))/(2*a)\n",
        "print (\"roots are\",x1,\",\",x2)\n",
        "\n"
      ],
      "metadata": {
        "colab": {
          "base_uri": "https://localhost:8080/"
        },
        "id": "UAWSvfmT8DfS",
        "outputId": "4b40a248-45a8-439a-8f1d-2acfae1ab5de"
      },
      "execution_count": null,
      "outputs": [
        {
          "output_type": "stream",
          "name": "stdout",
          "text": [
            "enter the value of a in a*x**2+b*x+c=0 1\n",
            "enter the value of b in a*x**2+b*x+c=0 -7\n",
            "enter the value of c in a*x**2+b*x+c=0 10\n",
            "roots are 5.0 , 2.0\n"
          ]
        }
      ]
    },
    {
      "cell_type": "code",
      "source": [
        "# WAP to find the Nature of the roots along with the above?"
      ],
      "metadata": {
        "id": "SQ7z6lUk-8pi"
      },
      "execution_count": null,
      "outputs": []
    },
    {
      "cell_type": "code",
      "source": [
        "#using discrimant to find the nature\n",
        "#using if elif else for the three conditions\n",
        "\n",
        "a=int(input(\"enter the value of a in a*x**2+b*x+c=0 \"))\n",
        "b=int(input(\"enter the value of b in a*x**2+b*x+c=0 \"))\n",
        "c=int(input(\"enter the value of c in a*x**2+b*x+c=0 \"))\n",
        "\n",
        "x1= (-b + (((b*b) - (4*a*c))**0.5))/(2*a)\n",
        "x2= (-b - (((b*b) - (4*a*c))**0.5))/(2*a)\n",
        "print (\"roots are\",x1,\",\",x2)\n",
        "\n",
        "D= ((b*b) - (4*a*c))\n",
        "if (D==0):\n",
        "  print(\"roots are real and equal\")\n",
        "elif (D>0):\n",
        "  print(\"roots are real and unequal\")\n",
        "else:\n",
        "  print(\"roots are imaginary and unequal\")"
      ],
      "metadata": {
        "colab": {
          "base_uri": "https://localhost:8080/"
        },
        "id": "U1jtQFxs_QEb",
        "outputId": "89a0c601-d976-4003-cd15-cdaf11f3cf68"
      },
      "execution_count": null,
      "outputs": [
        {
          "output_type": "stream",
          "name": "stdout",
          "text": [
            "enter the value of a in a*x**2+b*x+c=0 2\n",
            "enter the value of b in a*x**2+b*x+c=0 2\n",
            "enter the value of c in a*x**2+b*x+c=0 2\n",
            "roots are (-0.49999999999999994+0.8660254037844386j) , (-0.5-0.8660254037844386j)\n",
            "imaginary and unequal\n"
          ]
        }
      ]
    },
    {
      "cell_type": "code",
      "source": [
        "# WAP to calculate the area and perimeter of polygons(triangle, square, rectangle,circle)?"
      ],
      "metadata": {
        "id": "-7BXK5TAAtxk"
      },
      "execution_count": null,
      "outputs": []
    },
    {
      "cell_type": "code",
      "source": [
        "#using if elif else to find area and perimeter for all the cases using basic mathematical formulae\n",
        "\n",
        "x=input(\"Area and Perimeter for...... Enter T for triangle, S for Square, R for rectangle , C for circle \")\n",
        "if (x==\"T\"):\n",
        "  b=int(input(\"enter the value of base=\"))\n",
        "  h=int(input(\"enter the value of height=\"))\n",
        "  s1=int(input(\"enter the value of side1=\"))\n",
        "  s2=int(input(\"enter the value of side2=\"))\n",
        "  s3=int(input(\"enter the value of side3=\"))\n",
        "  area=0.5*b*h\n",
        "  p=s1+s2+s3\n",
        "  print(\"area=\",area)\n",
        "  print(\"perimeter=\",p)\n",
        "elif (x==\"S\"):\n",
        "  s=int(input(\"enter the value of Side=\"))\n",
        "  p=4*s\n",
        "  area=s*s\n",
        "  print(\"area=\",area)\n",
        "  print(\"perimeter=\",p)\n",
        "elif (x==\"R\"):\n",
        "  l=int(input(\"enter the value of length=\"))\n",
        "  b=int(input(\"enter the value of breadth=\"))\n",
        "  area=l*b\n",
        "  p= 2*(l+b)\n",
        "  print(\"area=\",area)\n",
        "  print(\"perimeter=\",p)\n",
        "elif (x==\"C\"):\n",
        "  r=int(input(\"enter the value of radius=\"))\n",
        "  p=3.14*2*r\n",
        "  area=3.14*r*r\n",
        "  print(\"area=\",area)\n",
        "  print(\"perimeter=\",p)\n",
        "else:\n",
        "  print(\"Invalid Input\")\n",
        "\n",
        "\n",
        "\n",
        "\n"
      ],
      "metadata": {
        "colab": {
          "base_uri": "https://localhost:8080/"
        },
        "id": "DebeVIo2Auas",
        "outputId": "7d5711cb-b017-472c-ea62-57001a44d623"
      },
      "execution_count": null,
      "outputs": [
        {
          "output_type": "stream",
          "name": "stdout",
          "text": [
            "Area and Perimeter for...... Enter T for triangle, S for Square, R for rectangle , C for circle 12\n",
            "Invalid Input\n"
          ]
        }
      ]
    },
    {
      "cell_type": "code",
      "source": [
        "# WAP to classify the amount and the quality of the purchase?\n",
        "# NOTE: Consider every product is of same cost.\n",
        "# Price = your_value\n",
        "# quantity  = your_value\n",
        "# amount = price * quantity\n",
        "\n",
        "# amount =  ( 0 - 500 ) is low quality\n",
        "# amount =  ( 501 - 1000 )is High quality\n",
        "# amount =  ( 100 - 200 ) is cheaper cost\n",
        "# amount =  ( 201 - 400 ) is good cost\n",
        "# amount =  ( 401 - 800 ) is moderate cost\n",
        "# amount =  ( 801 - 1000 )is costly"
      ],
      "metadata": {
        "id": "hg8Ss1ruEIAw"
      },
      "execution_count": null,
      "outputs": []
    },
    {
      "cell_type": "code",
      "source": [
        "p=int(input(\"enter the price\"))\n",
        "q=int(input(\"enter the quantity\"))\n",
        "a=p*q\n",
        "if(a>=0 and a<=500):\n",
        "  print(\"low quality\")\n",
        "elif(a>=501 and a<=1000):\n",
        "  print(\"high quality\")\n",
        "else:\n",
        "  print(\"error\")\n",
        "\n",
        "if(a>=100 and a<=200):\n",
        "  print(\"cheaper cost\")\n",
        "elif(a>=201 and a<=400):\n",
        "  print(\"good cost\")\n",
        "elif(a>=401 and a<=800):\n",
        "  print(\"moderate cost\")\n",
        "elif(a>=801 and a<=1000):\n",
        "  print(\"costly\")\n",
        "else :\n",
        "  print(\"error\")\n",
        "\n",
        "\n",
        "\n"
      ],
      "metadata": {
        "colab": {
          "base_uri": "https://localhost:8080/"
        },
        "id": "bU3YuDZzwOi2",
        "outputId": "fe6d51ac-b114-4fe3-c4b6-b1cb328d80e3"
      },
      "execution_count": null,
      "outputs": [
        {
          "output_type": "stream",
          "name": "stdout",
          "text": [
            "enter the price45\n",
            "enter the quantity9\n",
            "low quality\n",
            "moderate cost\n"
          ]
        }
      ]
    },
    {
      "cell_type": "code",
      "source": [
        "# Any product costs 100 each in shopping mall\n",
        "# There is a discount of 10% on the bill if customer shops more than 1000 rupees\n",
        "# Hint- Ask user, how many products he purchased as input to your code.\n",
        "# Tell the customer the final bill."
      ],
      "metadata": {
        "id": "5BNmcTx9CB77"
      },
      "execution_count": null,
      "outputs": []
    },
    {
      "cell_type": "code",
      "source": [
        "n=int(input(\"enter no of products purchased\"))\n",
        "a=n*100\n",
        "if(a>1000):\n",
        "  d=0.1*a\n",
        "  b=a-d\n",
        "\n",
        "else:\n",
        "  b=a\n",
        "print(\"bill=\",b)\n"
      ],
      "metadata": {
        "colab": {
          "base_uri": "https://localhost:8080/"
        },
        "id": "oRNeF3yaCOSy",
        "outputId": "d7143392-95f9-480b-c6ca-d48a09b64995"
      },
      "execution_count": null,
      "outputs": [
        {
          "output_type": "stream",
          "name": "stdout",
          "text": [
            "enter no of products purchased12\n",
            "bill= 1080.0\n"
          ]
        }
      ]
    },
    {
      "cell_type": "code",
      "source": [
        "# Check whether a triangle is a scalene/isosceles/equilateral triangle\n",
        "s1=int(input(\"enter the value of side1=\"))\n",
        "s2=int(input(\"enter the value of side2=\"))\n",
        "s3=int(input(\"enter the value of side3=\"))\n",
        "if(s1==s2 and s2==s3):\n",
        "  print(\"equalateral triangle\")\n",
        "elif((s1==s2 and s2!=s3) or (s1!=s2 and s2==s3)):\n",
        "  print(\"isosceles triangle\")\n",
        "else:\n",
        "  print(\"Scalene triangle\")\n",
        "\n"
      ],
      "metadata": {
        "colab": {
          "base_uri": "https://localhost:8080/"
        },
        "id": "D1TURb_UDVwf",
        "outputId": "5de7d043-2821-44e0-e7d9-a44a3508e8e5"
      },
      "execution_count": null,
      "outputs": [
        {
          "output_type": "stream",
          "name": "stdout",
          "text": [
            "enter the value of side1=9\n",
            "enter the value of side2=7\n",
            "enter the value of side3=5\n",
            "Scalene triangle\n"
          ]
        }
      ]
    },
    {
      "cell_type": "code",
      "source": [
        "# students above 75% attendance should be allowed for exam\n",
        "# students with permission are allowed though less than 75%\n",
        "\n",
        "x=int(input(\"enter the number of days attended\"))\n",
        "y=int(input(\"enter the total number of days\"))\n",
        "z=(x/y)*100\n",
        "if(z>=75):\n",
        "  print(\"allowed for exam, it is\",z,\"%\")\n",
        "else:\n",
        "  print(\"not allowed for exam it is\",z,\"%\")"
      ],
      "metadata": {
        "colab": {
          "base_uri": "https://localhost:8080/"
        },
        "id": "B4iC7idAFHCr",
        "outputId": "e9b6e671-a29e-4d63-a59c-21ab0c677ac8"
      },
      "execution_count": 3,
      "outputs": [
        {
          "output_type": "stream",
          "name": "stdout",
          "text": [
            "enter the number of days attended120\n",
            "enter the total number of days150\n",
            "allowed for exam, it is 80.0 %\n"
          ]
        }
      ]
    },
    {
      "cell_type": "code",
      "source": [
        "# Voter eligibility criteria\n",
        "# 1. What is your name? (Greet user with his/her name)\n",
        "# 2. Where are you from? (indian/others, only Indians are allowed to vote)\n",
        "# 3. Have you ever experienced voting before? (Yes/No)\n",
        "# 4. Would you like to Vote? (Yes/No)\n",
        "# 5. Which Year-Month-Day were you born? (DAY/MONTH/YEAR ,Calculate age)\n",
        "# 6. Did you like our project? (Yes/No)\n",
        "# 7. Please give us rating out of 5? => less than 5 ratings give 'we will try better' else 'thanks'\n",
        "\n"
      ],
      "metadata": {
        "id": "Rk-LK4oYRz7y"
      },
      "execution_count": null,
      "outputs": []
    },
    {
      "cell_type": "code",
      "source": [
        "name=input(\"Hello, May I know your name\")\n",
        "print(f\"Welcome {name}, Hope you are having a nice day\")\n",
        "nation=input(\"What is your country\")\n",
        "nation=nation.upper()\n",
        "if(nation==\"INDIA\"):\n",
        "  Past=input(\"Have you ever experienced voting before. Enter Yes/No\")\n",
        "  if (Past == \"No\"):\n",
        "    print(\"You have the power to make key decisions on the quality of life you want for yourself, your family, and your community. Voting is your chance to stand up for the issues you care about.\")\n",
        "  elif (Past == \"Yes\"):\n",
        "    print(\"Thank you for being a responsible citizen\")\n",
        "  else:\n",
        "    print(\"Invalid Input\")\n",
        "\n",
        "  W=input(\"Would you like to vote this time The election dates are on 15/11/2023.Enter Yes/No\")\n",
        "  if (W==\"No\"):\n",
        "    print(\"We are sad that you chose not to vote. Hope we get your vote next time\")\n",
        "  elif (W==\"Yes\"):\n",
        "    print(\"We require your Date of birth.\")\n",
        "    DD=int(input(\"DD=\"))\n",
        "    MM=int(input(\"MM=\"))\n",
        "    YYYY=int(input(\"YYYY=\"))\n",
        "    if( YYYY == 2005 ):\n",
        "      if(MM==11):\n",
        "        if(DD<=15):\n",
        "          print(\"You are eligible for voting\")\n",
        "      elif(MM<=10):\n",
        "        print(\"You are eligible for voting\")\n",
        "      else:\n",
        "        print(\"Not eligible for voting\")\n",
        "    elif(YYYY<=2004):\n",
        "      print(\"eligible for voting\")\n",
        "    else:\n",
        "      print(\"not eligible for voting\")\n",
        "  else:\n",
        "    print(\"Invalid Input\")\n",
        "else:\n",
        "  print(\"Not eligible\")\n",
        "\n",
        "\n",
        "\n",
        "r=input(\"Did you like our project.Enter Yes/No\")\n",
        "rev=int(input(\"Please rate us out of 5\"))\n",
        "if(rev==5):\n",
        "  print(\"Thanks\")\n",
        "else:\n",
        "  print(\"We will try to be better\")\n",
        "\n",
        "\n",
        "\n",
        "\n",
        "\n",
        "\n",
        "\n",
        "\n"
      ],
      "metadata": {
        "colab": {
          "base_uri": "https://localhost:8080/"
        },
        "id": "K7ZDLdm6TIB0",
        "outputId": "f930fe3b-4613-40eb-d0b2-a357ec48fb70"
      },
      "execution_count": 11,
      "outputs": [
        {
          "output_type": "stream",
          "name": "stdout",
          "text": [
            "Hello, May I know your namef\n",
            "Welcome f, Hope you are having a nice day\n",
            "What is your countryindia\n",
            "Have you ever experienced voting before. Enter Yes/NoYes\n",
            "Thank you for being a responsible citizen\n",
            "Would you like to vote this time The election dates are on 15/11/2023.Enter Yes/NoYes\n",
            "We require your Date of birth.\n",
            "DD=30\n",
            "MM=12\n",
            "YYYY=2005\n",
            "Not eligible for voting\n",
            "Did you like our project.Enter Yes/NoNo\n",
            "Please rate us out of 51\n",
            "We will try to be better\n"
          ]
        }
      ]
    },
    {
      "cell_type": "code",
      "source": [
        "# Build Mini calculator having functionalities - *, /, +, - , %, squareroot, exponentiation, floor, ceil\n",
        "import math\n",
        "f=input('What is the calculation you need to do. Choose one from this list... *,/,+,-,%,sqrt,exp,floor,ceil')\n",
        "if (f==\"*\"):\n",
        "  x=int(input(\"Enter first number\"))\n",
        "  y=int(input(\"Enter second number\"))\n",
        "  print(f\"Solution {x}*{y}={x*y}\")\n",
        "elif (f==\"/\"):\n",
        "  x=int(input(\"Enter first number\"))\n",
        "  y=int(input(\"Enter second number\"))\n",
        "  print(f\"Solution={x}/{y}={x/y}\")\n",
        "elif (f==\"+\"):\n",
        "  x=int(input(\"Enter first number\"))\n",
        "  y=int(input(\"Enter second number\"))\n",
        "  print(f\"Solution {x}+{y}={x+y}\")\n",
        "elif (f==\"-\"):\n",
        "  x=int(input(\"Enter first number\"))\n",
        "  y=int(input(\"Enter second number\"))\n",
        "  print(f\"Solution {x}-{y}={x-y}\")\n",
        "elif (f==\"%\"):\n",
        "  x=int(input(\"Enter first number\"))\n",
        "  y=int(input(\"Enter second number\"))\n",
        "  print(f\"Solution {x}%{y}={x%y}\")\n",
        "elif (f==\"sqrt\"):\n",
        "  x=int(input(\"Enter a number\"))\n",
        "  print(f\"Solution sqrt{x}={math.sqrt(x)}\")\n",
        "elif (f==\"exp\"):\n",
        "  x=int(input(\"Enter a number\"))\n",
        "  y=int(input(\"Enter another number\"))\n",
        "  print(f\"Solution {x}exp{y}={x**y}\")\n",
        "elif (f==\"floor\"):\n",
        "  x=float(input(\"Enter first number\"))\n",
        "  print(f\"Solution (floor){x}={math.floor(x)}\")\n",
        "elif (f==\"ceil\"):\n",
        "  x=float(input(\"Enter a number\"))\n",
        "  print(f\"Solution (ceil){x}={math.ceil(x)}\")\n",
        "else:\n",
        "  print(\"Error 101\")\n",
        "\n",
        "\n",
        "\n"
      ],
      "metadata": {
        "colab": {
          "base_uri": "https://localhost:8080/"
        },
        "id": "q8Jmbf2anRBr",
        "outputId": "7e37cfee-95c6-4672-d681-d590242d9268"
      },
      "execution_count": 24,
      "outputs": [
        {
          "output_type": "stream",
          "name": "stdout",
          "text": [
            "What is the calculation you need to do. Choose one from this list... *,/,+,-,%,sqrt,exp,floor,ceilexp\n",
            "Enter a number21\n",
            "Enter another number2\n",
            "Solution 21exp2=441\n"
          ]
        }
      ]
    },
    {
      "cell_type": "code",
      "source": [
        "# Find greatest number among three numbers?\n",
        "# ex: a,b,c are numbers\n",
        "# i) a is greater\n",
        "# ii) b is greater\n",
        "# iii) c is greater\n",
        "# iv) a, b are greater\n",
        "# v) a,c are greater\n",
        "# vi) b,c are greater\n",
        "# vii) all are equal\n",
        "\n"
      ],
      "metadata": {
        "colab": {
          "base_uri": "https://localhost:8080/"
        },
        "id": "w17M8fQRyOnJ",
        "outputId": "85c099b0-589f-4521-a745-dce5fa84135b"
      },
      "execution_count": 17,
      "outputs": [
        {
          "output_type": "execute_result",
          "data": {
            "text/plain": [
              "3"
            ]
          },
          "metadata": {},
          "execution_count": 17
        }
      ]
    },
    {
      "cell_type": "code",
      "source": [
        "a=int(input(\"Enter first number\"))\n",
        "b=int(input(\"Enter second number\"))\n",
        "c=int(input(\"Enter third number\"))\n",
        "if(a>b):\n",
        "  if(a>c):\n",
        "    print(f\"{a} is greater\")\n",
        "  elif(a<c):\n",
        "    print(f\"{c} is greater\")\n",
        "  else:\n",
        "    print(f\"{a},{c} are greater\")\n",
        "elif(b>a):\n",
        "  if(b>c):\n",
        "    print(f\"{b} is greater\")\n",
        "  elif(b<c):\n",
        "    print(f\"{c} is greater\")\n",
        "  else:\n",
        "    print(f\"{b},{c} are greater\")\n",
        "elif(a==b):\n",
        "  if(a>c):\n",
        "    print(f\"{a},{b} are greater\")\n",
        "  elif(a<c):\n",
        "    print(f\"{c} is greater\")\n",
        "  else:\n",
        "    print(\"All are equal\")"
      ],
      "metadata": {
        "colab": {
          "base_uri": "https://localhost:8080/"
        },
        "id": "SJj2WHjX5NKO",
        "outputId": "c9b69ea3-1433-409a-8cde-0486b883b84a"
      },
      "execution_count": 33,
      "outputs": [
        {
          "output_type": "stream",
          "name": "stdout",
          "text": [
            "Enter first number2\n",
            "Enter second number2\n",
            "Enter third number5\n",
            "5 is greater\n"
          ]
        }
      ]
    }
  ]
}