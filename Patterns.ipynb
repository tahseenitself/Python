{
  "nbformat": 4,
  "nbformat_minor": 0,
  "metadata": {
    "colab": {
      "provenance": []
    },
    "kernelspec": {
      "name": "python3",
      "display_name": "Python 3"
    },
    "language_info": {
      "name": "python"
    }
  },
  "cells": [
    {
      "cell_type": "code",
      "execution_count": null,
      "metadata": {
        "colab": {
          "base_uri": "https://localhost:8080/"
        },
        "id": "_9XFJEzHMF4d",
        "outputId": "f57ab2d5-e392-475b-eb68-4bb6f6c88f39"
      },
      "outputs": [
        {
          "output_type": "stream",
          "name": "stdout",
          "text": [
            "    *\n",
            "   **\n",
            "  ***\n",
            " ****\n",
            "*****\n"
          ]
        }
      ],
      "source": [
        "#     *\n",
        "#    **\n",
        "#   ***\n",
        "#  ****\n",
        "# *****\n",
        "\n",
        "s=4\n",
        "a=1\n",
        "while(s>=0):\n",
        "  print((\" \"*s)+(\"*\"*a))\n",
        "  a+=1\n",
        "  s-=1\n"
      ]
    },
    {
      "cell_type": "code",
      "source": [
        "s=4\n",
        "for a in range(1,6):\n",
        "  print((\" \"*s)+(\"*\"*a))\n",
        "  s-=1"
      ],
      "metadata": {
        "colab": {
          "base_uri": "https://localhost:8080/"
        },
        "id": "Gg47woqA8nYI",
        "outputId": "e9882d33-3f28-413b-ab14-20e564e068b0"
      },
      "execution_count": null,
      "outputs": [
        {
          "output_type": "stream",
          "name": "stdout",
          "text": [
            "    *\n",
            "   **\n",
            "  ***\n",
            " ****\n",
            "*****\n"
          ]
        }
      ]
    },
    {
      "cell_type": "code",
      "source": [
        "#     *\n",
        "#    ***\n",
        "#   *****\n",
        "#  *******\n",
        "# *********\n",
        "a=1\n",
        "for i in range(4,-1,-1):\n",
        "  print((\" \"*i)+(\"*\"*a))\n",
        "  a+=2"
      ],
      "metadata": {
        "colab": {
          "base_uri": "https://localhost:8080/"
        },
        "id": "NlhfOvbmN7YN",
        "outputId": "adcc8265-ebb7-41b8-aaec-8748c07e670a"
      },
      "execution_count": null,
      "outputs": [
        {
          "output_type": "stream",
          "name": "stdout",
          "text": [
            "    *\n",
            "   ***\n",
            "  *****\n",
            " *******\n",
            "*********\n"
          ]
        }
      ]
    },
    {
      "cell_type": "code",
      "source": [
        "s=4\n",
        "a=1\n",
        "while(s>=0):\n",
        "  print(\" \"*s+\"*\"*a)\n",
        "  s-=1\n",
        "  a+=2"
      ],
      "metadata": {
        "colab": {
          "base_uri": "https://localhost:8080/"
        },
        "id": "fwXDnRHm-CHD",
        "outputId": "229e79af-a95a-4be1-d53f-8981331a1144"
      },
      "execution_count": null,
      "outputs": [
        {
          "output_type": "stream",
          "name": "stdout",
          "text": [
            "    *\n",
            "   ***\n",
            "  *****\n",
            " *******\n",
            "*********\n"
          ]
        }
      ]
    },
    {
      "cell_type": "code",
      "source": [
        "# *********\n",
        "#  *******\n",
        "#   *****\n",
        "#    ***\n",
        "#     *\n",
        "a=9\n",
        "for i in range(0,5):\n",
        "  print((\" \"*i)+(\"*\"*a))\n",
        "  a-=2"
      ],
      "metadata": {
        "colab": {
          "base_uri": "https://localhost:8080/"
        },
        "id": "9YQP6AP_OeaI",
        "outputId": "eeac3475-7204-4ec4-a9fe-58002f3c548f"
      },
      "execution_count": null,
      "outputs": [
        {
          "output_type": "stream",
          "name": "stdout",
          "text": [
            "*********\n",
            " *******\n",
            "  *****\n",
            "   ***\n",
            "    *\n"
          ]
        }
      ]
    },
    {
      "cell_type": "code",
      "source": [
        "a=9\n",
        "s=0\n",
        "while(a>=1):\n",
        "  print()"
      ],
      "metadata": {
        "id": "KcUeMhfn-i7v"
      },
      "execution_count": null,
      "outputs": []
    },
    {
      "cell_type": "code",
      "source": [
        "#     *\n",
        "#    ***\n",
        "#   *****\n",
        "#  *******\n",
        "# *********\n",
        "#  *******\n",
        "#   *****\n",
        "#    ***\n",
        "#     *\n",
        "\n",
        "a=1\n",
        "for i in range(4,-1,-1):\n",
        "  print((\" \"*i)+(\"*\"*a))\n",
        "  a+=2\n",
        "a=7\n",
        "for i in range(1,5):\n",
        "  print((\" \"*i)+(\"*\"*a))\n",
        "  a-=2"
      ],
      "metadata": {
        "colab": {
          "base_uri": "https://localhost:8080/"
        },
        "id": "8nMkmGa7PQ2p",
        "outputId": "657a6593-181a-4006-c10a-3ec12994d466"
      },
      "execution_count": null,
      "outputs": [
        {
          "output_type": "stream",
          "name": "stdout",
          "text": [
            "    *\n",
            "   ***\n",
            "  *****\n",
            " *******\n",
            "*********\n",
            " *******\n",
            "  *****\n",
            "   ***\n",
            "    *\n"
          ]
        }
      ]
    },
    {
      "cell_type": "code",
      "source": [
        "# 2 9\n",
        "# 3 8\n",
        "# 4 7\n",
        "# 5 6\n",
        "# 6 5\n",
        "# 7 4\n",
        "# 8 3\n",
        "# 9 2\n",
        "# 10 1\n",
        "x=2\n",
        "y=9\n",
        "while(x<=10):\n",
        "  print(x,end=\" \")\n",
        "  print(y)\n",
        "  y-=1\n",
        "  x+=1"
      ],
      "metadata": {
        "colab": {
          "base_uri": "https://localhost:8080/"
        },
        "id": "mVt31dJOTnO0",
        "outputId": "4e775f63-dee3-4bf9-ca74-f0ee4ed7fa34"
      },
      "execution_count": null,
      "outputs": [
        {
          "output_type": "stream",
          "name": "stdout",
          "text": [
            "2 9\n",
            "3 8\n",
            "4 7\n",
            "5 6\n",
            "6 5\n",
            "7 4\n",
            "8 3\n",
            "9 2\n",
            "10 1\n"
          ]
        }
      ]
    },
    {
      "cell_type": "code",
      "source": [
        "# 1\n",
        "# 22\n",
        "# 333\n",
        "# 4444\n",
        "# 55555\n",
        "i=1\n",
        "j=1\n",
        "while(i<=5):\n",
        "  print()\n",
        "  while(j<=i):\n",
        "    print(i,end=\"\")\n",
        "    j+=1\n",
        "\n",
        "  j=1\n",
        "  i+=1\n",
        "print()\n",
        "i=1\n",
        "while(i<=5):\n",
        "  d=str(i)\n",
        "  print(i*d,end='')\n",
        "  i+=1\n",
        "  print()"
      ],
      "metadata": {
        "colab": {
          "base_uri": "https://localhost:8080/"
        },
        "id": "H9CGJCzPV4iM",
        "outputId": "3743bafb-7120-4530-f76c-99e9f36eca07"
      },
      "execution_count": null,
      "outputs": [
        {
          "output_type": "stream",
          "name": "stdout",
          "text": [
            "\n",
            "1\n",
            "22\n",
            "333\n",
            "4444\n",
            "55555\n",
            "1\n",
            "22\n",
            "333\n",
            "4444\n",
            "55555\n"
          ]
        }
      ]
    },
    {
      "cell_type": "code",
      "source": [
        "# 54321\n",
        "# 4321\n",
        "# 321\n",
        "# 21\n",
        "# 1\n",
        "\n",
        "i=5\n",
        "j=5\n",
        "while(j>0):\n",
        "  while(i>0):\n",
        "    print(i,end=\"\")\n",
        "    i-=1\n",
        "  print()\n",
        "\n",
        "  j-=1\n",
        "  i=j"
      ],
      "metadata": {
        "colab": {
          "base_uri": "https://localhost:8080/"
        },
        "id": "_koj1--DXrlw",
        "outputId": "0526ad2d-d9c4-4735-a95d-e4a6d5728fb9"
      },
      "execution_count": null,
      "outputs": [
        {
          "output_type": "stream",
          "name": "stdout",
          "text": [
            "54321\n",
            "4321\n",
            "321\n",
            "21\n",
            "1\n"
          ]
        }
      ]
    },
    {
      "cell_type": "code",
      "source": [
        "# 1\n",
        "# 2 3\n",
        "# 4 5 6\n",
        "# 7 8 9 10\n",
        "# 11 12 13 14 15\n",
        "i=1\n",
        "j=1\n",
        "a=1\n",
        "while(i<=5):\n",
        "  while(j<=i):\n",
        "    print(a,end=\" \")\n",
        "    a+=1\n",
        "    j+=1\n",
        "  print()\n",
        "  i+=1\n",
        "  j=1\n"
      ],
      "metadata": {
        "colab": {
          "base_uri": "https://localhost:8080/"
        },
        "id": "THvUOfr2cqBg",
        "outputId": "10b25dc9-7b9e-49d1-d6b0-eaa30d14deef"
      },
      "execution_count": null,
      "outputs": [
        {
          "output_type": "stream",
          "name": "stdout",
          "text": [
            "1 \n",
            "2 3 \n",
            "4 5 6 \n",
            "7 8 9 10 \n",
            "11 12 13 14 15 \n"
          ]
        }
      ]
    },
    {
      "cell_type": "code",
      "source": [
        "a=1\n",
        "for i in range(1,6):\n",
        "  for j in range(i):\n",
        "    print(a,end=\" \")\n",
        "    a+=1\n",
        "  print()"
      ],
      "metadata": {
        "colab": {
          "base_uri": "https://localhost:8080/"
        },
        "id": "0HXyR0DQCjA6",
        "outputId": "6ef2a4b4-b3f3-42b2-ac71-4c6eb41ac900"
      },
      "execution_count": null,
      "outputs": [
        {
          "output_type": "stream",
          "name": "stdout",
          "text": [
            "1 \n",
            "2 3 \n",
            "4 5 6 \n",
            "7 8 9 10 \n",
            "11 12 13 14 15 \n"
          ]
        }
      ]
    },
    {
      "cell_type": "code",
      "source": [
        "# 1  2  3  4  5\n",
        "# 6  7  8  9\n",
        "# 10 11 12\n",
        "# 13 14\n",
        "# 15\n",
        "\n",
        "i=5\n",
        "j=1\n",
        "a=1\n",
        "while(i>=0):\n",
        "  while(j<=i):\n",
        "    print(a,end=\"   \")\n",
        "    j+=1\n",
        "    a+=1\n",
        "  j=1\n",
        "  i-=1\n",
        "  print()"
      ],
      "metadata": {
        "colab": {
          "base_uri": "https://localhost:8080/"
        },
        "id": "WgeVRabYetvj",
        "outputId": "1c9e3345-72ba-484c-ef86-458456f30e99"
      },
      "execution_count": null,
      "outputs": [
        {
          "output_type": "stream",
          "name": "stdout",
          "text": [
            "1   2   3   4   5   \n",
            "6   7   8   9   \n",
            "10   11   12   \n",
            "13   14   \n",
            "15   \n",
            "\n"
          ]
        }
      ]
    },
    {
      "cell_type": "code",
      "source": [],
      "metadata": {
        "id": "fT_CnEW4DArH"
      },
      "execution_count": null,
      "outputs": []
    },
    {
      "cell_type": "code",
      "source": [
        "# 0 x 9 + 8 = 8\n",
        "# 9 x 9 + 7 = 88\n",
        "# 98 x 9 + 6 = 888\n",
        "# 987 x 9 + 5 = 8888\n",
        "# 9876 x 9 + 4 = 88888\n",
        "# 98765 x 9 + 3 = 888888\n",
        "# 987654 x 9 + 2 = 8888888\n",
        "# 9876543 x 9 + 1 = 88888888\n",
        "# 98765432 x 9 + 0 = 888888888\n",
        "s=\"\"\n",
        "\n",
        "for i in range(10,1,-1):\n",
        "  if(i==10):\n",
        "    s=\"0\"\n",
        "    x=8\n",
        "  else:\n",
        "    s+=str(i)\n",
        "    x=i-2\n",
        "    #print(s,x)\n",
        "  print(f\"{(int(s))}X9+{x}={((int(s))*9)+x}\")\n",
        "\n",
        "\n"
      ],
      "metadata": {
        "colab": {
          "base_uri": "https://localhost:8080/"
        },
        "id": "uSbh4nDThsej",
        "outputId": "5198a8f4-4537-43bc-eec7-3b152dd1d6c0"
      },
      "execution_count": null,
      "outputs": [
        {
          "output_type": "stream",
          "name": "stdout",
          "text": [
            "0X9+8=8\n",
            "9X9+7=88\n",
            "98X9+6=888\n",
            "987X9+5=8888\n",
            "9876X9+4=88888\n",
            "98765X9+3=888888\n",
            "987654X9+2=8888888\n",
            "9876543X9+1=88888888\n",
            "98765432X9+0=888888888\n"
          ]
        }
      ]
    },
    {
      "cell_type": "code",
      "source": [
        "# 1\n",
        "# 2 4\n",
        "# 3 6 9\n",
        "# 4 8 12 16\n",
        "# 5 10 15 20 25\n",
        "# 6 12 18 24 30 36\n",
        "# 7 14 21 28 35 42 49\n",
        "# 8 16 24 32 40 48 56 64\n",
        "# 9 18 27 36 45 54 63 72 81\n",
        "# 10 20 30 40 50 60 70 80 90 100\n",
        "i=1\n",
        "j=1\n",
        "while(i<=10):\n",
        "  while(j<=i):\n",
        "\n",
        "    print(i*j,end=\" \")\n",
        "    j+=1\n",
        "  print()\n",
        "  j=1\n",
        "  i+=1"
      ],
      "metadata": {
        "id": "KnMnOunuV1p_",
        "colab": {
          "base_uri": "https://localhost:8080/"
        },
        "outputId": "29e6f3e6-23c1-41cf-cdb9-965081f91bf0"
      },
      "execution_count": null,
      "outputs": [
        {
          "output_type": "stream",
          "name": "stdout",
          "text": [
            "1 \n",
            "2 4 \n",
            "3 6 9 \n",
            "4 8 12 16 \n",
            "5 10 15 20 25 \n",
            "6 12 18 24 30 36 \n",
            "7 14 21 28 35 42 49 \n",
            "8 16 24 32 40 48 56 64 \n",
            "9 18 27 36 45 54 63 72 81 \n",
            "10 20 30 40 50 60 70 80 90 100 \n"
          ]
        }
      ]
    },
    {
      "cell_type": "code",
      "source": [
        "for i in range(1,11):\n",
        "  for j in range(1,i+1):\n",
        "    print(i*j,end=\" \")\n",
        "\n",
        "  print()"
      ],
      "metadata": {
        "colab": {
          "base_uri": "https://localhost:8080/"
        },
        "id": "wfLtPdU4DGKG",
        "outputId": "11f3b2b6-7a65-4f0c-9911-5e67ed1f0c40"
      },
      "execution_count": null,
      "outputs": [
        {
          "output_type": "stream",
          "name": "stdout",
          "text": [
            "1 \n",
            "2 4 \n",
            "3 6 9 \n",
            "4 8 12 16 \n",
            "5 10 15 20 25 \n",
            "6 12 18 24 30 36 \n",
            "7 14 21 28 35 42 49 \n",
            "8 16 24 32 40 48 56 64 \n",
            "9 18 27 36 45 54 63 72 81 \n",
            "10 20 30 40 50 60 70 80 90 100 \n"
          ]
        }
      ]
    },
    {
      "cell_type": "code",
      "source": [
        "#              1\n",
        "#            2 3\n",
        "#          4 5 6\n",
        "#       7 8 9 10\n",
        "# 11 12 13 14 15\n",
        "a=1\n",
        "j=1\n",
        "k=2\n",
        "for i in range(13,4,-2):\n",
        "  if(i==5):\n",
        "    i=0\n",
        "    print(\" \"*i,end=\"\")\n",
        "  elif(i==7):\n",
        "    i=6\n",
        "    print(\" \"*i,end=\"\")\n",
        "    i=7\n",
        "  else:\n",
        "    print(\" \"*i,end=\"\")\n",
        "  for j in range(1,k):\n",
        "    print(a,end=\" \")\n",
        "    a+=1\n",
        "  k+=1\n",
        "\n",
        "\n",
        "  print()\n",
        "\n",
        "\n",
        "\n",
        "\n"
      ],
      "metadata": {
        "colab": {
          "base_uri": "https://localhost:8080/"
        },
        "id": "juqTAQeNdclF",
        "outputId": "ab43b16a-c663-4274-8685-ab1375740623"
      },
      "execution_count": null,
      "outputs": [
        {
          "output_type": "stream",
          "name": "stdout",
          "text": [
            "             1 \n",
            "           2 3 \n",
            "         4 5 6 \n",
            "      7 8 9 10 \n",
            "11 12 13 14 15 \n"
          ]
        }
      ]
    },
    {
      "cell_type": "code",
      "source": [
        "\n",
        "a=1\n",
        "k=2\n",
        "s=13\n",
        "j=1\n",
        "while(s>=0):\n",
        "  print(\" \"*s,end=\"\")\n",
        "\n",
        "  if(s==13 or s==11):\n",
        "    s-=2\n",
        "  elif(s==9):\n",
        "    s-=3\n",
        "  elif(s==6):\n",
        "    s=0\n",
        "  else:\n",
        "    s-=1\n",
        "\n",
        "\n",
        "\n",
        "  while j in range(1,k):\n",
        "\n",
        "    print(a,end=\" \")\n",
        "    a+=1\n",
        "    j+=1\n",
        "  k+=1\n",
        "  j=1\n",
        "  print()\n",
        "\n",
        "\n"
      ],
      "metadata": {
        "colab": {
          "base_uri": "https://localhost:8080/"
        },
        "id": "Z1RGw8RqdaXh",
        "outputId": "4db17104-262f-4cf3-f97d-ee47b93f5d6e"
      },
      "execution_count": null,
      "outputs": [
        {
          "output_type": "stream",
          "name": "stdout",
          "text": [
            "             1 \n",
            "           2 3 \n",
            "         4 5 6 \n",
            "      7 8 9 10 \n",
            "11 12 13 14 15 \n"
          ]
        }
      ]
    },
    {
      "cell_type": "code",
      "source": [
        "# A\n",
        "# A A\n",
        "# A A A\n",
        "# A A A A\n",
        "# A A A A A\n",
        "\n",
        "i=1\n",
        "while(i<=5):\n",
        "  print(\"A \"*i)\n",
        "\n",
        "  i+=1\n"
      ],
      "metadata": {
        "colab": {
          "base_uri": "https://localhost:8080/"
        },
        "id": "VroJAvbW_ud9",
        "outputId": "09969122-e351-4fac-bc4d-8c8c3d54d3ca"
      },
      "execution_count": null,
      "outputs": [
        {
          "output_type": "stream",
          "name": "stdout",
          "text": [
            "A \n",
            "A A \n",
            "A A A \n",
            "A A A A \n",
            "A A A A A \n"
          ]
        }
      ]
    },
    {
      "cell_type": "code",
      "source": [
        "# A\n",
        "# AB\n",
        "# ABC\n",
        "# ABCD\n",
        "# ABCDE\n",
        "\n",
        "a=\"ABCDE\"\n",
        "\n",
        "for i in range(0,len(a)+1):\n",
        "  if(i==0):\n",
        "    continue\n",
        "  else:\n",
        "    print(a[0:i])"
      ],
      "metadata": {
        "colab": {
          "base_uri": "https://localhost:8080/"
        },
        "id": "Z9pqn4NWW3dh",
        "outputId": "61c89d19-431c-4c14-f91f-17065a87c52c"
      },
      "execution_count": null,
      "outputs": [
        {
          "output_type": "stream",
          "name": "stdout",
          "text": [
            "A\n",
            "AB\n",
            "ABC\n",
            "ABCD\n",
            "ABCDE\n"
          ]
        }
      ]
    },
    {
      "cell_type": "code",
      "source": [
        "a=\"ABCDE\"\n",
        "i=0\n",
        "while i in range(len(a)):\n",
        "  print(a[0:i+1])\n",
        "  i+=1"
      ],
      "metadata": {
        "colab": {
          "base_uri": "https://localhost:8080/"
        },
        "id": "eU0xaFbm8faB",
        "outputId": "eca84920-b6f8-4d5e-954b-0996723d622f"
      },
      "execution_count": null,
      "outputs": [
        {
          "output_type": "stream",
          "name": "stdout",
          "text": [
            "A\n",
            "AB\n",
            "ABC\n",
            "ABCD\n",
            "ABCDE\n"
          ]
        }
      ]
    },
    {
      "cell_type": "code",
      "source": [
        "#   A\n",
        "#  ABC\n",
        "# ABCDE\n",
        "a=\"ABCDE\"\n",
        "j=0\n",
        "for i in range(2,-1,-1):\n",
        "  print(\" \"*i,end=\"\")\n",
        "  while(j<=len(a)):\n",
        "    j+=2\n",
        "    print(a[0:j-1])\n",
        "    break\n",
        "\n",
        "\n",
        "\n",
        "\n",
        "\n",
        "\n",
        "\n"
      ],
      "metadata": {
        "colab": {
          "base_uri": "https://localhost:8080/"
        },
        "id": "mVPoehvjbBOx",
        "outputId": "797cce06-0f56-4309-e47f-8c962b6622f0"
      },
      "execution_count": null,
      "outputs": [
        {
          "output_type": "stream",
          "name": "stdout",
          "text": [
            "  A\n",
            " ABC\n",
            "ABCDE\n"
          ]
        }
      ]
    },
    {
      "cell_type": "code",
      "source": [
        "a=\"ABCDE\"\n",
        "s=2\n",
        "i=0\n",
        "while i in range(0,len(a)):\n",
        "  print(\" \"*s,end=\"\")\n",
        "  print(a[0:i+1])\n",
        "  i+=2\n",
        "  s-=1\n",
        "\n",
        "\n"
      ],
      "metadata": {
        "colab": {
          "base_uri": "https://localhost:8080/"
        },
        "id": "PQ_UWdzk9Xvs",
        "outputId": "dd7332ef-0fd4-4fe9-e883-7e960459d600"
      },
      "execution_count": null,
      "outputs": [
        {
          "output_type": "stream",
          "name": "stdout",
          "text": [
            "  A\n",
            " ABC\n",
            "ABCDE\n"
          ]
        }
      ]
    },
    {
      "cell_type": "code",
      "source": [
        "# A\n",
        "# BC\n",
        "# DEF\n",
        "# IJKL\n",
        "# MNOPQ\n",
        "# RSTUVW\n",
        "\n",
        "#0,1\n",
        "#1,3\n",
        "#3,6\n",
        "#6,10\n",
        "#10,15\n",
        "#15,21\n",
        "x=0\n",
        "y=1\n",
        "z=0\n",
        "a=\"ABCDEFIJKLMNOPQRSTUVW\"\n",
        "for i in range(0,6):\n",
        "\n",
        "  y-=1\n",
        "  x=int((y*(y+1))/2)\n",
        "  y+=1\n",
        "  z=int((y*(y+1))/2)\n",
        "\n",
        "\n",
        "  y+=1\n",
        "\n",
        "  print(a[x:z])\n",
        "\n",
        "\n",
        "\n"
      ],
      "metadata": {
        "colab": {
          "base_uri": "https://localhost:8080/"
        },
        "id": "zAge5fSvKxKy",
        "outputId": "2678965c-03b2-4722-aaa4-e0b5f89d6c4d"
      },
      "execution_count": null,
      "outputs": [
        {
          "output_type": "stream",
          "name": "stdout",
          "text": [
            "A\n",
            "BC\n",
            "DEF\n",
            "IJKL\n",
            "MNOPQ\n",
            "RSTUVW\n"
          ]
        }
      ]
    },
    {
      "cell_type": "code",
      "source": [
        "a=\"ABCDEFIJKLMNOPQRSTUVW\"\n",
        "k=0\n",
        "l=0\n",
        "c1=1\n",
        "c=0\n",
        "while l in range(0,6):\n",
        "  while c in range(0,l+1):\n",
        "    print(a[k],end=\"\")\n",
        "    k+=1\n",
        "    c+=1\n",
        "  print()\n",
        "  c=0\n",
        "  l+=1\n"
      ],
      "metadata": {
        "colab": {
          "base_uri": "https://localhost:8080/"
        },
        "id": "_yYTSkyXYxP4",
        "outputId": "0951050a-2923-4ba0-8b0c-52bc286af269"
      },
      "execution_count": null,
      "outputs": [
        {
          "output_type": "stream",
          "name": "stdout",
          "text": [
            "A\n",
            "BC\n",
            "DEF\n",
            "IJKL\n",
            "MNOPQ\n",
            "RSTUVW\n"
          ]
        }
      ]
    },
    {
      "cell_type": "code",
      "source": [
        "#   A\n",
        "#  BCD\n",
        "# EFGHI\n",
        "\n",
        "def func(a):\n",
        "  x=1\n",
        "  d=2\n",
        "  b=0\n",
        "  for i in range(1,6,2):\n",
        "    print(\" \"*d,end=\"\")\n",
        "    d-=1\n",
        "    for j in range(i):\n",
        "      print(a[b],end=\"\")\n",
        "      b+=1\n",
        "    print()\n",
        "func(\"ABCDEFGHI\")\n"
      ],
      "metadata": {
        "colab": {
          "base_uri": "https://localhost:8080/"
        },
        "id": "heTxOTgsn9wR",
        "outputId": "8b61339b-933f-4650-d4ce-43cca42642cc"
      },
      "execution_count": null,
      "outputs": [
        {
          "output_type": "stream",
          "name": "stdout",
          "text": [
            "  A\n",
            " BCD\n",
            "EFGHI\n"
          ]
        }
      ]
    },
    {
      "cell_type": "code",
      "source": [
        "def patt(a):\n",
        "  r=0\n",
        "  s=2\n",
        "  b=0\n",
        "  i=1\n",
        "  while i in range(1,6):\n",
        "    print(\" \"*s,end=\"\")\n",
        "    s-=1\n",
        "    while r in range(0,i):\n",
        "\n",
        "      print(a[b],end=\"\")\n",
        "      b+=1\n",
        "      r+=1\n",
        "\n",
        "    i+=2\n",
        "    print()\n",
        "\n",
        "patt(\"ABCDEFGHI\")\n"
      ],
      "metadata": {
        "colab": {
          "base_uri": "https://localhost:8080/"
        },
        "id": "_A-LyktfbNc_",
        "outputId": "75460947-8495-4359-bd02-a719748cf9e2"
      },
      "execution_count": null,
      "outputs": [
        {
          "output_type": "stream",
          "name": "stdout",
          "text": [
            "  A\n",
            " BC\n",
            "DE\n"
          ]
        }
      ]
    }
  ]
}